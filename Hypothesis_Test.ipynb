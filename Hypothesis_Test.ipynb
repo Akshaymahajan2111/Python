{
  "nbformat": 4,
  "nbformat_minor": 0,
  "metadata": {
    "colab": {
      "name": "Hypothesis_Test.ipynb",
      "provenance": [],
      "authorship_tag": "ABX9TyNDiy8DjLtycd6u0G2E1Sg+",
      "include_colab_link": true
    },
    "kernelspec": {
      "name": "python3",
      "display_name": "Python 3"
    }
  },
  "cells": [
    {
      "cell_type": "markdown",
      "metadata": {
        "id": "view-in-github",
        "colab_type": "text"
      },
      "source": [
        "<a href=\"https://colab.research.google.com/github/Akshaymahajan2111/Python/blob/main/Hypothesis_Test.ipynb\" target=\"_parent\"><img src=\"https://colab.research.google.com/assets/colab-badge.svg\" alt=\"Open In Colab\"/></a>"
      ]
    },
    {
      "cell_type": "markdown",
      "metadata": {
        "id": "QXkAVsbG-YgF"
      },
      "source": [
        "1"
      ]
    },
    {
      "cell_type": "code",
      "metadata": {
        "id": "hrj6HCvJ1vwR"
      },
      "source": [
        "#import the libraries\r\n",
        "import pandas as pd\r\n",
        "import scipy \r\n",
        "import numpy as np\r\n",
        "from scipy import stats\r\n"
      ],
      "execution_count": 12,
      "outputs": []
    },
    {
      "cell_type": "code",
      "metadata": {
        "id": "rFyqeDrT3rek"
      },
      "source": [
        "data=pd.Series([0.593, 0.142, 0.329, 0.691, 0.231, 0.793, 0.519, 0.392, 0.418])"
      ],
      "execution_count": 13,
      "outputs": []
    },
    {
      "cell_type": "code",
      "metadata": {
        "colab": {
          "base_uri": "https://localhost:8080/"
        },
        "id": "y7uDA9Vw5-1f",
        "outputId": "680a60a6-9bba-4693-8a64-afbbf982c270"
      },
      "source": [
        "#This gives two tail test p value so divide by 2 to get final p-value\r\n",
        "p=scipy.stats.ttest_1samp(data,0.3)[1]\r\n",
        "p\r\n"
      ],
      "execution_count": 14,
      "outputs": [
        {
          "output_type": "execute_result",
          "data": {
            "text/plain": [
              "0.05853032968489765"
            ]
          },
          "metadata": {
            "tags": []
          },
          "execution_count": 14
        }
      ]
    },
    {
      "cell_type": "code",
      "metadata": {
        "colab": {
          "base_uri": "https://localhost:8080/"
        },
        "id": "SYzbmVGU6TCc",
        "outputId": "8565557e-8f01-4488-c541-dbeedb2c44e9"
      },
      "source": [
        "p/2"
      ],
      "execution_count": 15,
      "outputs": [
        {
          "output_type": "execute_result",
          "data": {
            "text/plain": [
              "0.029265164842448826"
            ]
          },
          "metadata": {
            "tags": []
          },
          "execution_count": 15
        }
      ]
    },
    {
      "cell_type": "markdown",
      "metadata": {
        "id": "YO1JwiAw-U9K"
      },
      "source": [
        "2 \r\n"
      ]
    },
    {
      "cell_type": "code",
      "metadata": {
        "id": "t_-XHGho6VkE"
      },
      "source": [
        "control=pd.Series([91, 87, 99, 77, 88, 91])\r\n",
        "Treat =pd.Series([101, 110, 103, 93, 99, 104])\r\n"
      ],
      "execution_count": 16,
      "outputs": []
    },
    {
      "cell_type": "code",
      "metadata": {
        "colab": {
          "base_uri": "https://localhost:8080/"
        },
        "id": "MoiuRX7_8lXr",
        "outputId": "d85944a3-6ddd-4c45-e0c9-ffffe55881ef"
      },
      "source": [
        "stats.ttest_ind( control,Treat)\r\n"
      ],
      "execution_count": 17,
      "outputs": [
        {
          "output_type": "execute_result",
          "data": {
            "text/plain": [
              "Ttest_indResult(statistic=-3.445612673536487, pvalue=0.006272124350809803)"
            ]
          },
          "metadata": {
            "tags": []
          },
          "execution_count": 17
        }
      ]
    },
    {
      "cell_type": "markdown",
      "metadata": {
        "id": "mQV_1iw9-ddX"
      },
      "source": [
        "3"
      ]
    },
    {
      "cell_type": "code",
      "metadata": {
        "id": "4s4AoOpZ8tUu"
      },
      "source": [
        "import numpy as np\r\n"
      ],
      "execution_count": 18,
      "outputs": []
    },
    {
      "cell_type": "code",
      "metadata": {
        "id": "90hoiSwG_57e"
      },
      "source": [
        "n1 = 247\r\n",
        "p1 = .37\r\n",
        "\r\n",
        "n2 = 308\r\n",
        "p2 = .39\r\n"
      ],
      "execution_count": 19,
      "outputs": []
    },
    {
      "cell_type": "code",
      "metadata": {
        "colab": {
          "base_uri": "https://localhost:8080/"
        },
        "id": "kbcJdTmjAD-r",
        "outputId": "7327f7b3-6c1c-4fa5-aa53-65250eb43f41"
      },
      "source": [
        "population1 = np.random.binomial(1, p1, n1)\r\n",
        "population2 = np.random.binomial(1, p2, n2)\r\n",
        "population1.mean()\r\n",
        "\r\n"
      ],
      "execution_count": 21,
      "outputs": [
        {
          "output_type": "execute_result",
          "data": {
            "text/plain": [
              "0.3643724696356275"
            ]
          },
          "metadata": {
            "tags": []
          },
          "execution_count": 21
        }
      ]
    },
    {
      "cell_type": "code",
      "metadata": {
        "id": "DqNbJD9yAKZ5"
      },
      "source": [
        "import statsmodels.api as sm\r\n"
      ],
      "execution_count": 22,
      "outputs": []
    },
    {
      "cell_type": "code",
      "metadata": {
        "colab": {
          "base_uri": "https://localhost:8080/"
        },
        "id": "QjgpfllrAU1Z",
        "outputId": "9e370957-8f09-4f38-984a-83b9b0522973"
      },
      "source": [
        "sm.stats.ttest_ind(population1, population2)"
      ],
      "execution_count": 23,
      "outputs": [
        {
          "output_type": "execute_result",
          "data": {
            "text/plain": [
              "(-1.150120046116748, 0.25059154731276034, 553.0)"
            ]
          },
          "metadata": {
            "tags": []
          },
          "execution_count": 23
        }
      ]
    },
    {
      "cell_type": "code",
      "metadata": {
        "id": "a4t98_v1AWJo"
      },
      "source": [
        ""
      ],
      "execution_count": null,
      "outputs": []
    }
  ]
}